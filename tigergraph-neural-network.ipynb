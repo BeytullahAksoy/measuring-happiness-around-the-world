{
 "cells": [
  {
   "cell_type": "markdown",
   "source": [
    "This notebook is used to create a neural network in TigerGraph.\n",
    "TigerGraph is a graph based database."
   ],
   "metadata": {
    "collapsed": false,
    "pycharm": {
     "name": "#%% md\n"
    }
   },
   "outputs": []
  },
  {
   "cell_type": "code",
   "execution_count": null,
   "outputs": [],
   "source": [
    "#!pip install pyTigerGraph"
   ],
   "metadata": {
    "collapsed": false,
    "pycharm": {
     "name": "#%%\n"
    }
   }
  },
  {
   "cell_type": "code",
   "execution_count": 10,
   "outputs": [],
   "source": [
    "import getpass\n",
    "import pyTigerGraph as tg\n",
    "server = 'http://localhost:14240'\n",
    "password = getpass.getpass()"
   ],
   "metadata": {
    "collapsed": false,
    "pycharm": {
     "name": "#%%\n"
    }
   }
  },
  {
   "cell_type": "code",
   "execution_count": 17,
   "outputs": [],
   "source": [
    "conn = tg.TigerGraphConnection(\n",
    "    host=server,\n",
    "    password=password)"
   ],
   "metadata": {
    "collapsed": false,
    "pycharm": {
     "name": "#%%\n"
    }
   }
  },
  {
   "cell_type": "code",
   "execution_count": 18,
   "outputs": [
    {
     "name": "stdout",
     "output_type": "stream",
     "text": [
      "---- Global vertices, edges, and all graphs\n",
      "Vertex Types:\n",
      "- VERTEX person(PRIMARY_ID id INT, first_name STRING, last_name STRING, age INT, email STRING, gender STRING, phone STRING) WITH STATS=\"OUTDEGREE_BY_EDGETYPE\"\n",
      "Edge Types:\n",
      "- UNDIRECTED EDGE friendship(FROM person, TO person, friendship_date DATETIME)\n",
      "\n",
      "Graphs:\n",
      "- Graph drug_target(drug:v, is_connected:e)\n",
      "- Graph mysql_humanresources(department:v, employee:v, pay:v, shift:v, department_to_employee:e, shift_to_employee:e, employee_to_pay:e)\n",
      "- Graph LinkedUp(Account:v, Company:v, City:v, State:v, Industry:v, connected_to:e, works_in:e, reverse_works_in:e, in_industry:e, reverse_in_industry:e, located_in:e, reverse_located_in:e, is_in:e, reverse_is_in:e)\n",
      "- Graph friends(person:v, friendship:e)\n",
      "- Graph emotion_classification(input_layer:v, hidden_layer:v, output_layer:v, Theta1:e, Theta2:e)\n",
      "Jobs:\n",
      "\n",
      "\n",
      "JSON API version: v2\n",
      "Syntax version: v1\n",
      "\n"
     ]
    }
   ],
   "source": [
    "print(conn.gsql('ls', options=[]))"
   ],
   "metadata": {
    "collapsed": false,
    "pycharm": {
     "name": "#%%\n"
    }
   }
  },
  {
   "cell_type": "code",
   "execution_count": 33,
   "outputs": [
    {
     "name": "stdout",
     "output_type": "stream",
     "text": [
      "The vertex type input_layer is created.\n"
     ]
    }
   ],
   "source": [
    "print(conn.gsql('''\n",
    "CREATE VERTEX input_layer(PRIMARY_ID v_inp_id STRING ,x_training  LIST<DOUBLE>,x_validation LIST<DOUBLE> )\n",
    "''', options=[]))"
   ],
   "metadata": {
    "collapsed": false,
    "pycharm": {
     "name": "#%%\n"
    }
   }
  },
  {
   "cell_type": "code",
   "execution_count": 34,
   "outputs": [
    {
     "name": "stdout",
     "output_type": "stream",
     "text": [
      "The vertex type hidden_layer is created.\n"
     ]
    }
   ],
   "source": [
    "print(conn.gsql('''\n",
    "CREATE VERTEX hidden_layer(PRIMARY_ID v_hid_id STRING )\n",
    "''', options=[]))"
   ],
   "metadata": {
    "collapsed": false,
    "pycharm": {
     "name": "#%%\n"
    }
   }
  },
  {
   "cell_type": "code",
   "execution_count": 35,
   "outputs": [
    {
     "name": "stdout",
     "output_type": "stream",
     "text": [
      "The vertex type output_layer is created.\n"
     ]
    }
   ],
   "source": [
    "print(conn.gsql('''\n",
    "CREATE VERTEX output_layer(PRIMARY_ID v_out_id STRING ,y_training  LIST<DOUBLE>,y_validation LIST<DOUBLE> )\n",
    "''', options=[]))"
   ],
   "metadata": {
    "collapsed": false,
    "pycharm": {
     "name": "#%%\n"
    }
   }
  },
  {
   "cell_type": "code",
   "execution_count": 39,
   "outputs": [
    {
     "name": "stdout",
     "output_type": "stream",
     "text": [
      "The edge type Theta1 is created.\n"
     ]
    }
   ],
   "source": [
    "print(conn.gsql('''\n",
    "CREATE undirected Edge Theta1(FROM input_layer, TO hidden_layer ,theta double )\n",
    "''', options=[]))"
   ],
   "metadata": {
    "collapsed": false,
    "pycharm": {
     "name": "#%%\n"
    }
   }
  },
  {
   "cell_type": "code",
   "execution_count": 40,
   "outputs": [
    {
     "name": "stdout",
     "output_type": "stream",
     "text": [
      "The edge type Theta2 is created.\n"
     ]
    }
   ],
   "source": [
    "print(conn.gsql('''\n",
    "CREATE undirected Edge Theta2(FROM hidden_layer, TO output_layer ,theta double )\n",
    "''', options=[]))"
   ],
   "metadata": {
    "collapsed": false,
    "pycharm": {
     "name": "#%%\n"
    }
   }
  }
 ],
 "metadata": {
  "kernelspec": {
   "display_name": "Python 3",
   "language": "python",
   "name": "python3"
  },
  "language_info": {
   "codemirror_mode": {
    "name": "ipython",
    "version": 2
   },
   "file_extension": ".py",
   "mimetype": "text/x-python",
   "name": "python",
   "nbconvert_exporter": "python",
   "pygments_lexer": "ipython2",
   "version": "2.7.6"
  }
 },
 "nbformat": 4,
 "nbformat_minor": 0
}