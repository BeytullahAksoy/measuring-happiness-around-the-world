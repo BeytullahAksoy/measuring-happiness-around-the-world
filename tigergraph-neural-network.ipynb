{
 "cells": [
  {
   "cell_type": "markdown",
   "source": [
    "This notebook is used to create a neural network in TigerGraph.\n",
    "TigerGraph is a graph based database."
   ],
   "metadata": {
    "collapsed": false,
    "pycharm": {
     "name": "#%% md\n"
    }
   },
   "outputs": []
  },
  {
   "cell_type": "code",
   "execution_count": null,
   "outputs": [],
   "source": [
    "#!pip install pyTigerGraph"
   ],
   "metadata": {
    "collapsed": false,
    "pycharm": {
     "name": "#%%\n"
    }
   }
  },
  {
   "cell_type": "code",
   "execution_count": 10,
   "outputs": [],
   "source": [
    "import getpass\n",
    "import pyTigerGraph as tg\n",
    "server = 'http://localhost:14240'\n",
    "password = getpass.getpass()"
   ],
   "metadata": {
    "collapsed": false,
    "pycharm": {
     "name": "#%%\n"
    }
   }
  },
  {
   "cell_type": "code",
   "execution_count": 15,
   "outputs": [],
   "source": [
    "conn = tg.TigerGraphConnection(\n",
    "    host=server,\n",
    "    graphname='emotion_classification',\n",
    "    password=password)"
   ],
   "metadata": {
    "collapsed": false,
    "pycharm": {
     "name": "#%%\n"
    }
   }
  },
  {
   "cell_type": "code",
   "execution_count": 16,
   "outputs": [
    {
     "name": "stdout",
     "output_type": "stream",
     "text": [
      "---- Graph emotion_classification\n",
      "Vertex Types:\n",
      "- VERTEX input_layer(PRIMARY_ID v_inp_id INT, x_training LIST<DOUBLE>, x_validation LIST<DOUBLE>) WITH STATS=\"OUTDEGREE_BY_EDGETYPE\", PRIMARY_ID_AS_ATTRIBUTE=\"false\"\n",
      "- VERTEX hidden_layer(PRIMARY_ID v_hid_id INT) WITH STATS=\"OUTDEGREE_BY_EDGETYPE\"\n",
      "- VERTEX output_layer(PRIMARY_ID v_out_id STRING, y_training LIST<DOUBLE>, y_validation LIST<DOUBLE>) WITH STATS=\"OUTDEGREE_BY_EDGETYPE\"\n",
      "Edge Types:\n",
      "- UNDIRECTED EDGE Theta1(FROM input_layer, TO hidden_layer, theta DOUBLE)\n",
      "- UNDIRECTED EDGE Theta2(FROM hidden_layer, TO output_layer, theta DOUBLE)\n",
      "\n",
      "Graphs:\n",
      "- Graph emotion_classification(input_layer:v, hidden_layer:v, output_layer:v, Theta1:e, Theta2:e)\n",
      "Jobs:\n",
      "- CREATE SCHEMA_CHANGE JOB local_schema_change_i8OXeJU28t FOR GRAPH emotion_classification {\n",
      "ADD VERTEX input_layer(PRIMARY_ID id INT, x_training LIST<DOUBLE>, x_validation LIST<DOUBLE>) WITH STATS=\"OUTDEGREE_BY_EDGETYPE\";\n",
      "}\n",
      "\n",
      "- CREATE SCHEMA_CHANGE JOB local_schema_change_xvqvVBZYp5 FOR GRAPH emotion_classification {\n",
      "DROP VERTEX input_layer;\n",
      "}\n",
      "\n",
      "- CREATE SCHEMA_CHANGE JOB local_schema_change_CHVNed9G8Q FOR GRAPH emotion_classification {\n",
      "ADD VERTEX input_layer(PRIMARY_ID v_inp_id INT, x_training LIST<DOUBLE>, x_validation LIST<DOUBLE>) WITH STATS=\"OUTDEGREE_BY_EDGETYPE\", PRIMARY_ID_AS_ATTRIBUTE=\"false\";\n",
      "ADD VERTEX hidden_layer(PRIMARY_ID v_hid_id INT) WITH STATS=\"OUTDEGREE_BY_EDGETYPE\";\n",
      "ADD VERTEX output_layer(PRIMARY_ID v_out_id STRING, y_training LIST<DOUBLE>, y_validation LIST<DOUBLE>) WITH STATS=\"OUTDEGREE_BY_EDGETYPE\";\n",
      "ADD UNDIRECTED EDGE Theta1(FROM input_layer, TO hidden_layer, theta DOUBLE);\n",
      "ADD UNDIRECTED EDGE Theta2(FROM hidden_layer, TO output_layer, theta DOUBLE);\n",
      "}\n",
      "\n",
      "Queries:\n",
      "\n",
      "\n",
      "\n",
      "\n"
     ]
    }
   ],
   "source": [
    "print(conn.gsql('ls', options=[]))"
   ],
   "metadata": {
    "collapsed": false,
    "pycharm": {
     "name": "#%%\n"
    }
   }
  }
 ],
 "metadata": {
  "kernelspec": {
   "display_name": "Python 3",
   "language": "python",
   "name": "python3"
  },
  "language_info": {
   "codemirror_mode": {
    "name": "ipython",
    "version": 2
   },
   "file_extension": ".py",
   "mimetype": "text/x-python",
   "name": "python",
   "nbconvert_exporter": "python",
   "pygments_lexer": "ipython2",
   "version": "2.7.6"
  }
 },
 "nbformat": 4,
 "nbformat_minor": 0
}