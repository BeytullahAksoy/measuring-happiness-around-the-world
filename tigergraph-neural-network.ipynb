{
 "cells": [
  {
   "cell_type": "markdown",
   "source": [
    "This notebook is used to create a neural network in TigerGraph.\n",
    "TigerGraph is a graph based database."
   ],
   "metadata": {
    "collapsed": false,
    "pycharm": {
     "name": "#%% md\n"
    }
   },
   "outputs": []
  },
  {
   "cell_type": "code",
   "execution_count": 1,
   "outputs": [],
   "source": [
    "#!pip install pyTigerGraph"
   ],
   "metadata": {
    "collapsed": false,
    "pycharm": {
     "name": "#%%\n"
    }
   }
  },
  {
   "cell_type": "code",
   "execution_count": 2,
   "outputs": [],
   "source": [
    "import getpass\n",
    "import pyTigerGraph as tg\n",
    "server = 'http://localhost:14240'\n",
    "password = getpass.getpass()"
   ],
   "metadata": {
    "collapsed": false,
    "pycharm": {
     "name": "#%%\n"
    }
   }
  },
  {
   "cell_type": "code",
   "execution_count": 3,
   "outputs": [],
   "source": [
    "conn = tg.TigerGraphConnection(\n",
    "    host=server,\n",
    "    password=password)"
   ],
   "metadata": {
    "collapsed": false,
    "pycharm": {
     "name": "#%%\n"
    }
   }
  },
  {
   "cell_type": "code",
   "execution_count": 4,
   "outputs": [
    {
     "name": "stdout",
     "output_type": "stream",
     "text": [
      "Connection Failed check your Username/Password [WinError 10061] Hedef makine etkin olarak reddettiğinden bağlantı kurulamadı\n",
      "Couldn't Initialize the client see Above Error\n"
     ]
    },
    {
     "ename": "SystemExit",
     "evalue": "1",
     "output_type": "error",
     "traceback": [
      "An exception has occurred, use %tb to see the full traceback.\n",
      "\u001B[1;31mSystemExit\u001B[0m\u001B[1;31m:\u001B[0m 1\n"
     ]
    },
    {
     "name": "stderr",
     "output_type": "stream",
     "text": [
      "c:\\users\\beytu\\onedrive\\belgeler\\github\\measuring-happiness-around-the-world\\venv\\lib\\site-packages\\IPython\\core\\interactiveshell.py:3532: UserWarning: To exit: use 'exit', 'quit', or Ctrl-D.\n",
      "  warn(\"To exit: use 'exit', 'quit', or Ctrl-D.\", stacklevel=1)\n"
     ]
    }
   ],
   "source": [
    "print(conn.gsql('ls', options=[]))"
   ],
   "metadata": {
    "collapsed": false,
    "pycharm": {
     "name": "#%%\n"
    }
   }
  },
  {
   "cell_type": "code",
   "execution_count": 33,
   "outputs": [
    {
     "name": "stdout",
     "output_type": "stream",
     "text": [
      "The vertex type input_layer is created.\n"
     ]
    }
   ],
   "source": [
    "print(conn.gsql('''\n",
    "CREATE VERTEX input_layer(PRIMARY_ID v_inp_id STRING ,x_training  LIST<DOUBLE>,x_validation LIST<DOUBLE> )\n",
    "''', options=[]))"
   ],
   "metadata": {
    "collapsed": false,
    "pycharm": {
     "name": "#%%\n"
    }
   }
  },
  {
   "cell_type": "code",
   "execution_count": 34,
   "outputs": [
    {
     "name": "stdout",
     "output_type": "stream",
     "text": [
      "The vertex type hidden_layer is created.\n"
     ]
    }
   ],
   "source": [
    "print(conn.gsql('''\n",
    "CREATE VERTEX hidden_layer(PRIMARY_ID v_hid_id STRING )\n",
    "''', options=[]))"
   ],
   "metadata": {
    "collapsed": false,
    "pycharm": {
     "name": "#%%\n"
    }
   }
  },
  {
   "cell_type": "code",
   "execution_count": 35,
   "outputs": [
    {
     "name": "stdout",
     "output_type": "stream",
     "text": [
      "The vertex type output_layer is created.\n"
     ]
    }
   ],
   "source": [
    "print(conn.gsql('''\n",
    "CREATE VERTEX output_layer(PRIMARY_ID v_out_id STRING ,y_training  LIST<DOUBLE>,y_validation LIST<DOUBLE> )\n",
    "''', options=[]))"
   ],
   "metadata": {
    "collapsed": false,
    "pycharm": {
     "name": "#%%\n"
    }
   }
  },
  {
   "cell_type": "code",
   "execution_count": 39,
   "outputs": [
    {
     "name": "stdout",
     "output_type": "stream",
     "text": [
      "The edge type Theta1 is created.\n"
     ]
    }
   ],
   "source": [
    "print(conn.gsql('''\n",
    "CREATE undirected Edge Theta1(FROM input_layer, TO hidden_layer ,theta double )\n",
    "''', options=[]))"
   ],
   "metadata": {
    "collapsed": false,
    "pycharm": {
     "name": "#%%\n"
    }
   }
  },
  {
   "cell_type": "code",
   "execution_count": 40,
   "outputs": [
    {
     "name": "stdout",
     "output_type": "stream",
     "text": [
      "The edge type Theta2 is created.\n"
     ]
    }
   ],
   "source": [
    "print(conn.gsql('''\n",
    "CREATE undirected Edge Theta2(FROM hidden_layer, TO output_layer ,theta double )\n",
    "''', options=[]))"
   ],
   "metadata": {
    "collapsed": false,
    "pycharm": {
     "name": "#%%\n"
    }
   }
  }
 ],
 "metadata": {
  "kernelspec": {
   "display_name": "Python 3",
   "language": "python",
   "name": "python3"
  },
  "language_info": {
   "codemirror_mode": {
    "name": "ipython",
    "version": 2
   },
   "file_extension": ".py",
   "mimetype": "text/x-python",
   "name": "python",
   "nbconvert_exporter": "python",
   "pygments_lexer": "ipython2",
   "version": "2.7.6"
  }
 },
 "nbformat": 4,
 "nbformat_minor": 0
}