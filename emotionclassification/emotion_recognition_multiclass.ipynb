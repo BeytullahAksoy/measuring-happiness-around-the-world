{
  "cells": [
    {
      "cell_type": "markdown",
      "source": [
        "#MultiClass Emotion Recognition Using Fer-2013 Dataset"
      ],
      "metadata": {
        "id": "qarVgqL_fvkh"
      }
    },
    {
      "cell_type": "code",
      "execution_count": null,
      "metadata": {
        "colab": {
          "base_uri": "https://localhost:8080/"
        },
        "id": "a0hXb3HIsYhP",
        "outputId": "67734159-55bc-42a4-ac67-35d6a0764de3"
      },
      "outputs": [
        {
          "output_type": "stream",
          "name": "stdout",
          "text": [
            "/content/drive/MyDrive/senior-project/CNNs\n"
          ]
        }
      ],
      "source": [
        "%cd /content/drive/MyDrive/senior-project/CNNs/"
      ]
    },
    {
      "cell_type": "code",
      "execution_count": null,
      "metadata": {
        "id": "nL3abSmDtGto"
      },
      "outputs": [],
      "source": [
        "!pip install utils\n",
        "!pip install livelossplot"
      ]
    },
    {
      "cell_type": "code",
      "execution_count": null,
      "metadata": {
        "id": "YuSzyqcLshKJ"
      },
      "outputs": [],
      "source": [
        "import numpy as np\n",
        "import seaborn as sns\n",
        "import matplotlib.pyplot as plt\n",
        "import utils\n",
        "import os\n",
        "import pandas as pd\n",
        "from tensorflow.keras.preprocessing.image import ImageDataGenerator\n",
        "from tensorflow.keras.layers import Dense, Input, Dropout,Flatten, Conv2D\n",
        "from tensorflow.keras.layers import BatchNormalization, Activation, MaxPooling2D\n",
        "from tensorflow.keras.models import Model, Sequential\n",
        "from tensorflow.keras.optimizers import Adam\n",
        "from tensorflow.keras.callbacks import ModelCheckpoint, ReduceLROnPlateau\n",
        "from tensorflow.keras.utils import plot_model\n",
        "from IPython.display import SVG, Image\n",
        "from livelossplot import PlotLossesKeras\n",
        "import tensorflow as tf\n",
        "device_name = tf.test.gpu_device_name()\n",
        "if device_name != '/device:GPU:0':\n",
        "  raise SystemError('GPU device not found')"
      ]
    },
    {
      "cell_type": "markdown",
      "source": [
        "###Load Data"
      ],
      "metadata": {
        "id": "pHMS648Me27p"
      }
    },
    {
      "cell_type": "code",
      "execution_count": null,
      "metadata": {
        "id": "fH_0EnrfsiqR"
      },
      "outputs": [],
      "source": [
        "data = pd.read_csv('fer2013.csv')"
      ]
    },
    {
      "cell_type": "markdown",
      "source": [
        "###Scale Data"
      ],
      "metadata": {
        "id": "e8iDup9BeztJ"
      }
    },
    {
      "cell_type": "code",
      "source": [
        "for i in range(len(data)):\n",
        "  data['pixels'][i] = data['pixels'][i].split(\" \")"
      ],
      "metadata": {
        "colab": {
          "base_uri": "https://localhost:8080/"
        },
        "id": "orqmZF2ZNez6",
        "outputId": "b8475d56-e741-48d4-f352-03f1659c3685"
      },
      "execution_count": null,
      "outputs": [
        {
          "output_type": "stream",
          "name": "stderr",
          "text": [
            "/usr/local/lib/python3.7/dist-packages/ipykernel_launcher.py:2: SettingWithCopyWarning: \n",
            "A value is trying to be set on a copy of a slice from a DataFrame\n",
            "\n",
            "See the caveats in the documentation: https://pandas.pydata.org/pandas-docs/stable/user_guide/indexing.html#returning-a-view-versus-a-copy\n",
            "  \n"
          ]
        }
      ]
    },
    {
      "cell_type": "code",
      "source": [
        "for i in range(len(data)):\n",
        "  data['pixels'][i] = [int(x) / 255 for x in data['pixels'][i]]"
      ],
      "metadata": {
        "colab": {
          "base_uri": "https://localhost:8080/"
        },
        "id": "uz3LM12NPWlX",
        "outputId": "2544f16b-e39c-4348-a8f3-aa6533e30a0b"
      },
      "execution_count": null,
      "outputs": [
        {
          "output_type": "stream",
          "name": "stderr",
          "text": [
            "/usr/local/lib/python3.7/dist-packages/ipykernel_launcher.py:2: SettingWithCopyWarning: \n",
            "A value is trying to be set on a copy of a slice from a DataFrame\n",
            "\n",
            "See the caveats in the documentation: https://pandas.pydata.org/pandas-docs/stable/user_guide/indexing.html#returning-a-view-versus-a-copy\n",
            "  \n"
          ]
        }
      ]
    },
    {
      "cell_type": "code",
      "source": [
        "for i in range(len(data)):\n",
        "  data['pixels'][i] = \" \".join(str(item) for item in data['pixels'][i])"
      ],
      "metadata": {
        "colab": {
          "base_uri": "https://localhost:8080/"
        },
        "id": "9gpw_EylP3Fj",
        "outputId": "5c9615e4-ff46-4665-bf3c-29d4ea28522f"
      },
      "execution_count": null,
      "outputs": [
        {
          "output_type": "stream",
          "name": "stderr",
          "text": [
            "/usr/local/lib/python3.7/dist-packages/ipykernel_launcher.py:2: SettingWithCopyWarning: \n",
            "A value is trying to be set on a copy of a slice from a DataFrame\n",
            "\n",
            "See the caveats in the documentation: https://pandas.pydata.org/pandas-docs/stable/user_guide/indexing.html#returning-a-view-versus-a-copy\n",
            "  \n"
          ]
        }
      ]
    },
    {
      "cell_type": "markdown",
      "source": [
        "###Data Processing"
      ],
      "metadata": {
        "id": "9Q3O5NhMe-fi"
      }
    },
    {
      "cell_type": "code",
      "execution_count": null,
      "metadata": {
        "id": "rQkoDdgSvPV3"
      },
      "outputs": [],
      "source": [
        "train_data = data[data.Usage == \"Training\"]"
      ]
    },
    {
      "cell_type": "code",
      "execution_count": null,
      "metadata": {
        "colab": {
          "base_uri": "https://localhost:8080/"
        },
        "id": "pdDQuz7QuLK-",
        "outputId": "41afe9f2-a2ff-466e-fa89-b235d63a3f01"
      },
      "outputs": [
        {
          "output_type": "stream",
          "name": "stderr",
          "text": [
            "/usr/local/lib/python3.7/dist-packages/IPython/core/interactiveshell.py:3552: FutureWarning: Could not cast to int64, falling back to object. This behavior is deprecated. In a future version, when a dtype is passed to 'DataFrame', either all columns will be cast to that dtype, or a TypeError will be raised\n",
            "  exec(code_obj, self.user_global_ns, self.user_ns)\n",
            "/usr/local/lib/python3.7/dist-packages/ipykernel_launcher.py:4: DeprecationWarning: `np.float` is a deprecated alias for the builtin `float`. To silence this warning, use `float` by itself. Doing this will not modify any behavior and is safe. If you specifically wanted the numpy scalar type, use `np.float64` here.\n",
            "Deprecated in NumPy 1.20; for more details and guidance: https://numpy.org/devdocs/release/1.20.0-notes.html#deprecations\n",
            "  after removing the cwd from sys.path.\n"
          ]
        }
      ],
      "source": [
        "train_pixels = train_data.pixels.str.split(\" \").tolist()\n",
        "train_pixels = pd.DataFrame(train_pixels , dtype=int)\n",
        "train_images = train_pixels.values\n",
        "train_images = train_images.astype(np.float)"
      ]
    },
    {
      "cell_type": "code",
      "execution_count": null,
      "metadata": {
        "id": "wtfImZEOuN11"
      },
      "outputs": [],
      "source": [
        "train_labels_flat = train_data[\"emotion\"].values.ravel()\n",
        "train_labels_count = np.unique(train_labels_flat).shape[0]"
      ]
    },
    {
      "cell_type": "code",
      "execution_count": null,
      "metadata": {
        "id": "ZBB-SxEUuPi8"
      },
      "outputs": [],
      "source": [
        "def dense_to_one_hot(labels_dense, num_classes):\n",
        "  num_labels = labels_dense.shape[0]\n",
        "  \n",
        "  index_offset = np.arange(num_labels) * num_classes\n",
        "  labels_one_hot = np.zeros((num_labels, num_classes))\n",
        "  labels_one_hot.flat[index_offset + labels_dense.ravel()] = 1\n",
        "  return labels_one_hot"
      ]
    },
    {
      "cell_type": "code",
      "execution_count": null,
      "metadata": {
        "id": "rrGyXQ4ZuR4u"
      },
      "outputs": [],
      "source": [
        "y_train = dense_to_one_hot(train_labels_flat, train_labels_count)\n",
        "y_train = y_train.astype(np.uint8)"
      ]
    },
    {
      "cell_type": "code",
      "execution_count": null,
      "metadata": {
        "id": "FSyfT04YuTrJ",
        "colab": {
          "base_uri": "https://localhost:8080/"
        },
        "outputId": "75537d60-93ba-440c-f5aa-f1126cdd496f"
      },
      "outputs": [
        {
          "output_type": "stream",
          "name": "stderr",
          "text": [
            "/usr/local/lib/python3.7/dist-packages/ipykernel_launcher.py:6: DeprecationWarning: `np.float` is a deprecated alias for the builtin `float`. To silence this warning, use `float` by itself. Doing this will not modify any behavior and is safe. If you specifically wanted the numpy scalar type, use `np.float64` here.\n",
            "Deprecated in NumPy 1.20; for more details and guidance: https://numpy.org/devdocs/release/1.20.0-notes.html#deprecations\n",
            "  \n"
          ]
        }
      ],
      "source": [
        "test_data = data[data.Usage == \"PublicTest\"]\n",
        "test_pixels = test_data.pixels.str.split(\" \").tolist()\n",
        "\n",
        "test_pixels = pd.DataFrame(test_pixels, dtype=int)\n",
        "test_images = test_pixels.values\n",
        "test_images = test_images.astype(np.float)"
      ]
    },
    {
      "cell_type": "code",
      "execution_count": null,
      "metadata": {
        "id": "bakkb96tuVPx"
      },
      "outputs": [],
      "source": [
        "test_labels_flat = test_data[\"emotion\"].values.ravel()\n",
        "test_labels_count = np.unique(test_labels_flat).shape[0]\n",
        "\n",
        "y_test = dense_to_one_hot(test_labels_flat,test_labels_count)\n",
        "y_test = y_test.astype(np.uint8)"
      ]
    },
    {
      "cell_type": "code",
      "execution_count": null,
      "metadata": {
        "id": "JVS7FoMiuY8X"
      },
      "outputs": [],
      "source": [
        "x_train = train_images.reshape(-1, 48, 48, 1)\n",
        "x_test = test_images.reshape(-1,48,48,1)"
      ]
    },
    {
      "cell_type": "markdown",
      "source": [
        "###Model Building"
      ],
      "metadata": {
        "id": "B3oGOvdSfZIb"
      }
    },
    {
      "cell_type": "code",
      "execution_count": null,
      "metadata": {
        "id": "rK7dEjV1s3WI"
      },
      "outputs": [],
      "source": [
        "model = Sequential()\n",
        "\n",
        "model.add(Conv2D(64, (3,3), padding='same', input_shape=(48,48,1)))\n",
        "model.add(BatchNormalization())\n",
        "model.add(Activation('relu'))\n",
        "model.add(MaxPooling2D(pool_size=(2,2)))\n",
        "model.add(Dropout(0.25))\n",
        "\n",
        "model.add(Conv2D(128,(5,5), padding='same'))\n",
        "model.add(BatchNormalization())\n",
        "model.add(Activation('relu'))\n",
        "model.add(MaxPooling2D(pool_size=(2,2)))\n",
        "model.add(Dropout(0.25))\n",
        "\n",
        "model.add(Conv2D(512,(5,5), padding='same'))\n",
        "model.add(BatchNormalization())\n",
        "model.add(Activation('relu'))\n",
        "model.add(MaxPooling2D(pool_size=(2,2)))\n",
        "model.add(Dropout(0.25))\n",
        "\n",
        "model.add(Conv2D(512,(5,5), padding='same'))\n",
        "model.add(BatchNormalization())\n",
        "model.add(Activation('relu'))\n",
        "model.add(MaxPooling2D(pool_size=(2,2)))\n",
        "model.add(Dropout(0.25))\n",
        "\n",
        "model.add(Conv2D(512,(5,5), padding='same'))\n",
        "model.add(BatchNormalization())\n",
        "model.add(Activation('relu'))\n",
        "model.add(MaxPooling2D(pool_size=(2,2)))\n",
        "model.add(Dropout(0.25))\n",
        "model.add(Flatten())\n",
        "\n",
        "model.add(BatchNormalization())\n",
        "model.add(Activation('relu'))\n",
        "model.add(Dropout(0.25))\n",
        "\n",
        "model.add(Dense(512))\n",
        "model.add(BatchNormalization())\n",
        "model.add(Activation('relu'))\n",
        "model.add(Dropout(0.25))\n",
        "\n",
        "model.add(Dense(7, activation='softmax'))\n",
        "\n",
        "opt = Adam(lr=0.0005)\n",
        "model.compile(optimizer=opt, loss='categorical_crossentropy', metrics=['accuracy'])"
      ]
    },
    {
      "cell_type": "code",
      "execution_count": null,
      "metadata": {
        "id": "rcnrll60t0R5",
        "colab": {
          "base_uri": "https://localhost:8080/"
        },
        "outputId": "53fd9c6f-ea62-4e78-a057-0b98a291b8a5"
      },
      "outputs": [
        {
          "output_type": "stream",
          "name": "stdout",
          "text": [
            "Epoch 1/20\n",
            "144/144 - 38s - loss: 1.8819 - accuracy: 0.2776 - val_loss: 1.9165 - val_accuracy: 0.1819 - 38s/epoch - 263ms/step\n",
            "Epoch 2/20\n",
            "144/144 - 20s - loss: 1.5699 - accuracy: 0.4054 - val_loss: 1.9452 - val_accuracy: 0.1845 - 20s/epoch - 136ms/step\n",
            "Epoch 3/20\n",
            "144/144 - 20s - loss: 1.3983 - accuracy: 0.4678 - val_loss: 1.7879 - val_accuracy: 0.3664 - 20s/epoch - 138ms/step\n",
            "Epoch 4/20\n",
            "144/144 - 19s - loss: 1.3034 - accuracy: 0.5009 - val_loss: 1.3616 - val_accuracy: 0.4798 - 19s/epoch - 134ms/step\n",
            "Epoch 5/20\n",
            "144/144 - 19s - loss: 1.2282 - accuracy: 0.5359 - val_loss: 1.3389 - val_accuracy: 0.4628 - 19s/epoch - 133ms/step\n",
            "Epoch 6/20\n",
            "144/144 - 19s - loss: 1.1685 - accuracy: 0.5556 - val_loss: 1.3764 - val_accuracy: 0.4907 - 19s/epoch - 134ms/step\n",
            "Epoch 7/20\n",
            "144/144 - 19s - loss: 1.1214 - accuracy: 0.5756 - val_loss: 1.3558 - val_accuracy: 0.4840 - 19s/epoch - 135ms/step\n",
            "Epoch 8/20\n",
            "144/144 - 19s - loss: 1.0782 - accuracy: 0.5917 - val_loss: 1.2581 - val_accuracy: 0.5208 - 19s/epoch - 135ms/step\n",
            "Epoch 9/20\n",
            "144/144 - 19s - loss: 1.0413 - accuracy: 0.6106 - val_loss: 1.2673 - val_accuracy: 0.5311 - 19s/epoch - 134ms/step\n",
            "Epoch 10/20\n",
            "144/144 - 19s - loss: 1.0023 - accuracy: 0.6224 - val_loss: 1.3582 - val_accuracy: 0.4542 - 19s/epoch - 134ms/step\n",
            "Epoch 11/20\n",
            "144/144 - 19s - loss: 0.9647 - accuracy: 0.6366 - val_loss: 1.3158 - val_accuracy: 0.5121 - 19s/epoch - 134ms/step\n",
            "Epoch 12/20\n",
            "144/144 - 19s - loss: 0.9256 - accuracy: 0.6551 - val_loss: 1.2074 - val_accuracy: 0.5350 - 19s/epoch - 134ms/step\n",
            "Epoch 13/20\n",
            "144/144 - 19s - loss: 0.8811 - accuracy: 0.6701 - val_loss: 1.2913 - val_accuracy: 0.5302 - 19s/epoch - 135ms/step\n",
            "Epoch 14/20\n",
            "144/144 - 19s - loss: 0.8458 - accuracy: 0.6869 - val_loss: 1.2788 - val_accuracy: 0.5316 - 19s/epoch - 135ms/step\n",
            "Epoch 15/20\n",
            "144/144 - 19s - loss: 0.8099 - accuracy: 0.6992 - val_loss: 1.1499 - val_accuracy: 0.5759 - 19s/epoch - 134ms/step\n",
            "Epoch 16/20\n",
            "144/144 - 19s - loss: 0.7641 - accuracy: 0.7189 - val_loss: 1.3277 - val_accuracy: 0.5132 - 19s/epoch - 133ms/step\n",
            "Epoch 17/20\n",
            "144/144 - 19s - loss: 0.7275 - accuracy: 0.7327 - val_loss: 1.2409 - val_accuracy: 0.5456 - 19s/epoch - 134ms/step\n",
            "Epoch 18/20\n",
            "144/144 - 19s - loss: 0.6980 - accuracy: 0.7466 - val_loss: 1.1735 - val_accuracy: 0.5715 - 19s/epoch - 134ms/step\n",
            "Epoch 19/20\n",
            "144/144 - 19s - loss: 0.6597 - accuracy: 0.7577 - val_loss: 1.4171 - val_accuracy: 0.5202 - 19s/epoch - 134ms/step\n",
            "Epoch 20/20\n",
            "144/144 - 19s - loss: 0.6272 - accuracy: 0.7722 - val_loss: 1.2902 - val_accuracy: 0.5389 - 19s/epoch - 134ms/step\n"
          ]
        }
      ],
      "source": [
        "checkpoint = ModelCheckpoint(\"model_weights.h5\",monitor='val_accuracy',\n",
        "                            save_weights_only=True, mode='max',verbose=1)\n",
        "reduce_lr = ReduceLROnPlateau(monitor='val_loss' , factor=0.1, patience=2, min_lr=0.00001,model='auto')\n",
        "\n",
        "callbacks = [PlotLossesKeras(), checkpoint, reduce_lr]\n",
        "\n",
        "r = model.fit( x_train, y_train,  \n",
        "                        epochs=20,\n",
        "                        shuffle=True,\n",
        "                        batch_size=200,\n",
        "                        validation_data=(x_test, y_test),\n",
        "                                              verbose=2)"
      ]
    },
    {
      "cell_type": "code",
      "execution_count": null,
      "metadata": {
        "id": "QkfYqk6Gn3o4",
        "colab": {
          "base_uri": "https://localhost:8080/",
          "height": 285
        },
        "outputId": "23a93d47-dd8c-4933-9684-d21ed2047142"
      },
      "outputs": [
        {
          "output_type": "execute_result",
          "data": {
            "text/plain": [
              "<matplotlib.legend.Legend at 0x7f7f34487450>"
            ]
          },
          "metadata": {},
          "execution_count": 18
        },
        {
          "output_type": "display_data",
          "data": {
            "text/plain": [
              "<Figure size 432x288 with 1 Axes>"
            ],
            "image/png": "[encoded data removed]"
          },
          "metadata": {
            "needs_background": "light"
          }
        }
      ],
      "source": [
        "plt.plot(r.history['loss'],label = 'loss')\n",
        "plt.plot(r.history['val_loss'],label ='val_loss')\n",
        "plt.legend()"
      ]
    },
    {
      "cell_type": "code",
      "source": [
        "fig = plt.figure()\n",
        "plt.plot(r.history['accuracy'], color='teal', label='accuracy')\n",
        "plt.plot(r.history['val_accuracy'], color='orange', label='val_accuracy')\n",
        "fig.suptitle('Accuracy', fontsize=20)\n",
        "plt.legend(loc=\"upper left\")\n",
        "plt.show()"
      ],
      "metadata": {
        "colab": {
          "base_uri": "https://localhost:8080/",
          "height": 294
        },
        "id": "lYFAgYy-eKgL",
        "outputId": "19a21958-3c13-4c7f-c39d-11e1cb729d4e"
      },
      "execution_count": null,
      "outputs": [
        {
          "output_type": "display_data",
          "data": {
            "text/plain": [
              "<Figure size 432x288 with 1 Axes>"
            ],
            "image/png": "[encoded data removed]"
          },
          "metadata": {
            "needs_background": "light"
          }
        }
      ]
    },
    {
      "cell_type": "code",
      "execution_count": null,
      "metadata": {
        "id": "PiS9tmyBvdee"
      },
      "outputs": [],
      "source": [
        "model.save('Face_Emotion_detection.h5')"
      ]
    }
  ],
  "metadata": {
    "accelerator": "GPU",
    "colab": {
      "collapsed_sections": [],
      "name": "emotion-recognition-multiclass.ipynb",
      "provenance": []
    },
    "kernelspec": {
      "display_name": "Python 3",
      "name": "python3"
    },
    "language_info": {
      "name": "python"
    }
  },
  "nbformat": 4,
  "nbformat_minor": 0
}