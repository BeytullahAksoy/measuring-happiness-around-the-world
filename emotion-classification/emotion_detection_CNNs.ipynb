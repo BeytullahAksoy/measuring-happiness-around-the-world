{
  "cells": [
    {
      "cell_type": "markdown",
      "metadata": {
        "id": "view-in-github",
        "colab_type": "text"
      },
      "source": [
        "<a href=\"https://colab.research.google.com/github/BeytullahAksoy/emotion-detection-cnn/blob/main/emotion_detection_CNNs.ipynb\" target=\"_parent\"><img src=\"https://colab.research.google.com/assets/colab-badge.svg\" alt=\"Open In Colab\"/></a>"
      ]
    },
    {
      "cell_type": "code",
      "execution_count": null,
      "metadata": {
        "colab": {
          "base_uri": "https://localhost:8080/"
        },
        "id": "7qerFQ-PsPet",
        "outputId": "01e6e2b2-ba2f-4ba8-b23d-909fd4afe902"
      },
      "outputs": [
        {
          "name": "stdout",
          "output_type": "stream",
          "text": [
            "/content/drive/MyDrive/senior-project/CNNs\n"
          ]
        }
      ],
      "source": [
        " %cd /content/drive/MyDrive/senior-project/CNNs"
      ]
    },
    {
      "cell_type": "code",
      "execution_count": null,
      "metadata": {
        "id": "yU7mWtc5szlR"
      },
      "outputs": [],
      "source": [
        "import tensorflow as tf\n",
        "import pandas as pd\n",
        "import keras\n",
        "from keras.models import Sequential\n",
        "from keras.layers import Conv2D, MaxPool2D, AveragePooling2D\n",
        "from keras.layers import Dense, Activation, Dropout, Flatten\n",
        "from keras.preprocessing import image\n",
        "from keras.preprocessing.image import ImageDataGenerator\n",
        "import numpy as np\n",
        "import matplotlib.pyplot as plt\n",
        "from keras.utils import np_utils\n",
        "from keras.callbacks import ModelCheckpoint"
      ]
    },
    {
      "cell_type": "code",
      "execution_count": null,
      "metadata": {
        "id": "a2GpWWlXvHd0"
      },
      "outputs": [],
      "source": [
        "data = pd.read_csv('fer2013.csv')"
      ]
    },
    {
      "cell_type": "code",
      "execution_count": null,
      "metadata": {
        "colab": {
          "base_uri": "https://localhost:8080/"
        },
        "id": "9z2M6rL_vNr9",
        "outputId": "178cf1d5-605b-4560-817c-b752cb824524"
      },
      "outputs": [
        {
          "data": {
            "text/plain": [
              "(35887, 3)"
            ]
          },
          "execution_count": 4,
          "metadata": {},
          "output_type": "execute_result"
        }
      ],
      "source": [
        "data.shape"
      ]
    },
    {
      "cell_type": "code",
      "execution_count": null,
      "metadata": {
        "colab": {
          "base_uri": "https://localhost:8080/",
          "height": 206
        },
        "id": "umjQ_EV-vRyp",
        "outputId": "9acdc07d-dbff-43b4-9111-da600b83781e"
      },
      "outputs": [
        {
          "data": {
            "text/html": [
              "\n",
              "  <div id=\"df-4ce9dc5a-0594-489e-91e0-22bf5f38181e\">\n",
              "    <div class=\"colab-df-container\">\n",
              "      <div>\n",
              "<style scoped>\n",
              "    .dataframe tbody tr th:only-of-type {\n",
              "        vertical-align: middle;\n",
              "    }\n",
              "\n",
              "    .dataframe tbody tr th {\n",
              "        vertical-align: top;\n",
              "    }\n",
              "\n",
              "    .dataframe thead th {\n",
              "        text-align: right;\n",
              "    }\n",
              "</style>\n",
              "<table border=\"1\" class=\"dataframe\">\n",
              "  <thead>\n",
              "    <tr style=\"text-align: right;\">\n",
              "      <th></th>\n",
              "      <th>emotion</th>\n",
              "      <th>pixels</th>\n",
              "      <th>Usage</th>\n",
              "    </tr>\n",
              "  </thead>\n",
              "  <tbody>\n",
              "    <tr>\n",
              "      <th>0</th>\n",
              "      <td>0</td>\n",
              "      <td>70 80 82 72 58 58 60 63 54 58 60 48 89 115 121...</td>\n",
              "      <td>Training</td>\n",
              "    </tr>\n",
              "    <tr>\n",
              "      <th>1</th>\n",
              "      <td>0</td>\n",
              "      <td>151 150 147 155 148 133 111 140 170 174 182 15...</td>\n",
              "      <td>Training</td>\n",
              "    </tr>\n",
              "    <tr>\n",
              "      <th>2</th>\n",
              "      <td>2</td>\n",
              "      <td>231 212 156 164 174 138 161 173 182 200 106 38...</td>\n",
              "      <td>Training</td>\n",
              "    </tr>\n",
              "    <tr>\n",
              "      <th>3</th>\n",
              "      <td>4</td>\n",
              "      <td>24 32 36 30 32 23 19 20 30 41 21 22 32 34 21 1...</td>\n",
              "      <td>Training</td>\n",
              "    </tr>\n",
              "    <tr>\n",
              "      <th>4</th>\n",
              "      <td>6</td>\n",
              "      <td>4 0 0 0 0 0 0 0 0 0 0 0 3 15 23 28 48 50 58 84...</td>\n",
              "      <td>Training</td>\n",
              "    </tr>\n",
              "  </tbody>\n",
              "</table>\n",
              "</div>\n",
              "      <button class=\"colab-df-convert\" onclick=\"convertToInteractive('df-4ce9dc5a-0594-489e-91e0-22bf5f38181e')\"\n",
              "              title=\"Convert this dataframe to an interactive table.\"\n",
              "              style=\"display:none;\">\n",
              "        \n",
              "  <svg xmlns=\"http://www.w3.org/2000/svg\" height=\"24px\"viewBox=\"0 0 24 24\"\n",
              "       width=\"24px\">\n",
              "    <path d=\"M0 0h24v24H0V0z\" fill=\"none\"/>\n",
              "    <path d=\"M18.56 5.44l.94 2.06.94-2.06 2.06-.94-2.06-.94-.94-2.06-.94 2.06-2.06.94zm-11 1L8.5 8.5l.94-2.06 2.06-.94-2.06-.94L8.5 2.5l-.94 2.06-2.06.94zm10 10l.94 2.06.94-2.06 2.06-.94-2.06-.94-.94-2.06-.94 2.06-2.06.94z\"/><path d=\"M17.41 7.96l-1.37-1.37c-.4-.4-.92-.59-1.43-.59-.52 0-1.04.2-1.43.59L10.3 9.45l-7.72 7.72c-.78.78-.78 2.05 0 2.83L4 21.41c.39.39.9.59 1.41.59.51 0 1.02-.2 1.41-.59l7.78-7.78 2.81-2.81c.8-.78.8-2.07 0-2.86zM5.41 20L4 18.59l7.72-7.72 1.47 1.35L5.41 20z\"/>\n",
              "  </svg>\n",
              "      </button>\n",
              "      \n",
              "  <style>\n",
              "    .colab-df-container {\n",
              "      display:flex;\n",
              "      flex-wrap:wrap;\n",
              "      gap: 12px;\n",
              "    }\n",
              "\n",
              "    .colab-df-convert {\n",
              "      background-color: #E8F0FE;\n",
              "      border: none;\n",
              "      border-radius: 50%;\n",
              "      cursor: pointer;\n",
              "      display: none;\n",
              "      fill: #1967D2;\n",
              "      height: 32px;\n",
              "      padding: 0 0 0 0;\n",
              "      width: 32px;\n",
              "    }\n",
              "\n",
              "    .colab-df-convert:hover {\n",
              "      background-color: #E2EBFA;\n",
              "      box-shadow: 0px 1px 2px rgba(60, 64, 67, 0.3), 0px 1px 3px 1px rgba(60, 64, 67, 0.15);\n",
              "      fill: #174EA6;\n",
              "    }\n",
              "\n",
              "    [theme=dark] .colab-df-convert {\n",
              "      background-color: #3B4455;\n",
              "      fill: #D2E3FC;\n",
              "    }\n",
              "\n",
              "    [theme=dark] .colab-df-convert:hover {\n",
              "      background-color: #434B5C;\n",
              "      box-shadow: 0px 1px 3px 1px rgba(0, 0, 0, 0.15);\n",
              "      filter: drop-shadow(0px 1px 2px rgba(0, 0, 0, 0.3));\n",
              "      fill: #FFFFFF;\n",
              "    }\n",
              "  </style>\n",
              "\n",
              "      <script>\n",
              "        const buttonEl =\n",
              "          document.querySelector('#df-4ce9dc5a-0594-489e-91e0-22bf5f38181e button.colab-df-convert');\n",
              "        buttonEl.style.display =\n",
              "          google.colab.kernel.accessAllowed ? 'block' : 'none';\n",
              "\n",
              "        async function convertToInteractive(key) {\n",
              "          const element = document.querySelector('#df-4ce9dc5a-0594-489e-91e0-22bf5f38181e');\n",
              "          const dataTable =\n",
              "            await google.colab.kernel.invokeFunction('convertToInteractive',\n",
              "                                                     [key], {});\n",
              "          if (!dataTable) return;\n",
              "\n",
              "          const docLinkHtml = 'Like what you see? Visit the ' +\n",
              "            '<a target=\"_blank\" href=https://colab.research.google.com/notebooks/data_table.ipynb>data table notebook</a>'\n",
              "            + ' to learn more about interactive tables.';\n",
              "          element.innerHTML = '';\n",
              "          dataTable['output_type'] = 'display_data';\n",
              "          await google.colab.output.renderOutput(dataTable, element);\n",
              "          const docLink = document.createElement('div');\n",
              "          docLink.innerHTML = docLinkHtml;\n",
              "          element.appendChild(docLink);\n",
              "        }\n",
              "      </script>\n",
              "    </div>\n",
              "  </div>\n",
              "  "
            ],
            "text/plain": [
              "   emotion                                             pixels     Usage\n",
              "0        0  70 80 82 72 58 58 60 63 54 58 60 48 89 115 121...  Training\n",
              "1        0  151 150 147 155 148 133 111 140 170 174 182 15...  Training\n",
              "2        2  231 212 156 164 174 138 161 173 182 200 106 38...  Training\n",
              "3        4  24 32 36 30 32 23 19 20 30 41 21 22 32 34 21 1...  Training\n",
              "4        6  4 0 0 0 0 0 0 0 0 0 0 0 3 15 23 28 48 50 58 84...  Training"
            ]
          },
          "execution_count": 5,
          "metadata": {},
          "output_type": "execute_result"
        }
      ],
      "source": [
        "data.head()"
      ]
    },
    {
      "cell_type": "code",
      "execution_count": null,
      "metadata": {
        "colab": {
          "base_uri": "https://localhost:8080/"
        },
        "id": "NchlCI7iwNev",
        "outputId": "5288f006-251d-4960-dd75-af538e0a3ea7"
      },
      "outputs": [
        {
          "data": {
            "text/plain": [
              "Training       28709\n",
              "PrivateTest     3589\n",
              "PublicTest      3589\n",
              "Name: Usage, dtype: int64"
            ]
          },
          "execution_count": 6,
          "metadata": {},
          "output_type": "execute_result"
        }
      ],
      "source": [
        "data[\"Usage\"].value_counts()"
      ]
    },
    {
      "cell_type": "code",
      "execution_count": null,
      "metadata": {
        "id": "-P_jq0RawYFZ"
      },
      "outputs": [],
      "source": [
        "train_data = data[data.Usage == \"Training\"]"
      ]
    },
    {
      "cell_type": "code",
      "execution_count": null,
      "metadata": {
        "colab": {
          "base_uri": "https://localhost:8080/"
        },
        "id": "_CqM2bAFwkNy",
        "outputId": "3fa48208-50ed-434c-c66e-5bb05173bf75"
      },
      "outputs": [
        {
          "name": "stdout",
          "output_type": "stream",
          "text": [
            "[[ 70.  80.  82. ... 106. 109.  82.]\n",
            " [151. 150. 147. ... 193. 183. 184.]\n",
            " [231. 212. 156. ...  88. 110. 152.]\n",
            " ...\n",
            " [ 74.  81.  87. ... 188. 187. 187.]\n",
            " [222. 227. 203. ... 136. 136. 134.]\n",
            " [195. 199. 205. ...   6.  15.  38.]]\n"
          ]
        }
      ],
      "source": [
        "train_pixels = train_data.pixels.str.split(\" \").tolist()\n",
        "train_pixels = pd.DataFrame(train_pixels , dtype=int)\n",
        "train_images = train_pixels.values\n",
        "train_images = train_images.astype(np.float)\n",
        "\n",
        "print(train_images)"
      ]
    },
    {
      "cell_type": "code",
      "execution_count": null,
      "metadata": {
        "id": "jZiV288Twqlh"
      },
      "outputs": [],
      "source": [
        "def show(img):\n",
        "  show_image = img.reshape(48,48)\n",
        "  plt.axis(\"off\")\n",
        "  plt.imshow(show_image, cmap=\"gray\")"
      ]
    },
    {
      "cell_type": "code",
      "execution_count": null,
      "metadata": {
        "colab": {
          "base_uri": "https://localhost:8080/"
        },
        "id": "nyDP2tlLzLaV",
        "outputId": "844fd7c4-0d77-4d5b-9422-4a936c52536c"
      },
      "outputs": [
        {
          "data": {
            "image/png": "[encoded data removed]",
            "text/plain": [
              "<Figure size 432x288 with 1 Axes>"
            ]
          },
          "metadata": {},
          "output_type": "display_data"
        }
      ],
      "source": [
        "show(train_images[1])"
      ]
    },
    {
      "cell_type": "code",
      "execution_count": null,
      "metadata": {
        "colab": {
          "base_uri": "https://localhost:8080/"
        },
        "id": "nUXjqRPMw5d7",
        "outputId": "9d3aa8e1-409b-4991-f91a-4c5d57de0cf1"
      },
      "outputs": [
        {
          "data": {
            "text/plain": [
              "7"
            ]
          },
          "execution_count": 11,
          "metadata": {},
          "output_type": "execute_result"
        }
      ],
      "source": [
        "train_labels_flat = train_data[\"emotion\"].values.ravel()\n",
        "train_labels_count = np.unique(train_labels_flat).shape[0]\n",
        "train_labels_count"
      ]
    },
    {
      "cell_type": "code",
      "execution_count": null,
      "metadata": {
        "id": "InMF0C8u3gWN"
      },
      "outputs": [],
      "source": [
        "def dense_to_one_hot(labels_dense, num_classes):\n",
        "  num_labels = labels_dense.shape[0]\n",
        "  \n",
        "  index_offset = np.arange(num_labels) * num_classes\n",
        "  labels_one_hot = np.zeros((num_labels, num_classes))\n",
        "  labels_one_hot.flat[index_offset + labels_dense.ravel()] = 1\n",
        "  return labels_one_hot"
      ]
    },
    {
      "cell_type": "code",
      "execution_count": null,
      "metadata": {
        "colab": {
          "base_uri": "https://localhost:8080/"
        },
        "id": "H_O16xBZ3824",
        "outputId": "7055e72d-5041-47df-f07c-0eb3b4d5293b"
      },
      "outputs": [
        {
          "data": {
            "text/plain": [
              "(28709, 7)"
            ]
          },
          "execution_count": 13,
          "metadata": {},
          "output_type": "execute_result"
        }
      ],
      "source": [
        "y_train = dense_to_one_hot(train_labels_flat, train_labels_count)\n",
        "y_train = y_train.astype(np.uint8)\n",
        "y_train.shape"
      ]
    },
    {
      "cell_type": "code",
      "execution_count": null,
      "metadata": {
        "colab": {
          "base_uri": "https://localhost:8080/"
        },
        "id": "I4m_Fz1F56Mu",
        "outputId": "bd88e627-64ec-4af3-ac0a-2565b3b14a53"
      },
      "outputs": [
        {
          "name": "stdout",
          "output_type": "stream",
          "text": [
            "(3589, 2304)\n"
          ]
        }
      ],
      "source": [
        "test_data = data[data.Usage == \"PublicTest\"]\n",
        "test_pixels = test_data.pixels.str.split(\" \").tolist()\n",
        "\n",
        "test_pixels = pd.DataFrame(test_pixels, dtype=int)\n",
        "test_images = test_pixels.values\n",
        "test_images = test_images.astype(np.float)\n",
        "\n",
        "print(test_images.shape)"
      ]
    },
    {
      "cell_type": "code",
      "execution_count": null,
      "metadata": {
        "colab": {
          "base_uri": "https://localhost:8080/"
        },
        "id": "zIm_IZVb8r-v",
        "outputId": "8c49091d-4bfc-455b-f6e8-497dc2ff5596"
      },
      "outputs": [
        {
          "data": {
            "image/png": "[encoded data removed]",
            "text/plain": [
              "<Figure size 432x288 with 1 Axes>"
            ]
          },
          "metadata": {},
          "output_type": "display_data"
        }
      ],
      "source": [
        "show(test_images[5])"
      ]
    },
    {
      "cell_type": "code",
      "execution_count": null,
      "metadata": {
        "colab": {
          "base_uri": "https://localhost:8080/"
        },
        "id": "6es9OoH16lPv",
        "outputId": "55f0eb73-96a3-4405-b266-4b909b4b8b48"
      },
      "outputs": [
        {
          "name": "stdout",
          "output_type": "stream",
          "text": [
            "(3589, 7)\n"
          ]
        }
      ],
      "source": [
        "test_labels_flat = test_data[\"emotion\"].values.ravel()\n",
        "test_labels_count = np.unique(test_labels_flat).shape[0]\n",
        "\n",
        "y_test = dense_to_one_hot(test_labels_flat,test_labels_count)\n",
        "y_test = y_test.astype(np.uint8)\n",
        "\n",
        "print(y_test.shape)"
      ]
    },
    {
      "cell_type": "code",
      "execution_count": null,
      "metadata": {
        "id": "vNH7WJKGbyaJ"
      },
      "outputs": [],
      "source": [
        "num_layers = 3\n",
        "min_nodes_per_layer, max_nodes_per_layer = 64, 256\n",
        "node_step_size = 64"
      ]
    },
    {
      "cell_type": "code",
      "execution_count": null,
      "metadata": {
        "colab": {
          "base_uri": "https://localhost:8080/"
        },
        "id": "DuISlrgHyNO3",
        "outputId": "4b8c3454-183e-4ccc-a52a-b989b775c462"
      },
      "outputs": [
        {
          "data": {
            "text/plain": [
              "[64, 128, 192, 256]"
            ]
          },
          "execution_count": 18,
          "metadata": {},
          "output_type": "execute_result"
        }
      ],
      "source": [
        "node_options = list(range(\n",
        "    min_nodes_per_layer,\n",
        "    max_nodes_per_layer + 1,\n",
        "    node_step_size\n",
        "\n",
        "\n",
        "))\n",
        "node_options"
      ]
    },
    {
      "cell_type": "code",
      "execution_count": null,
      "metadata": {
        "colab": {
          "base_uri": "https://localhost:8080/"
        },
        "id": "dNQbBJ8IhLHg",
        "outputId": "390a5e6c-05a7-4e59-9e25-26c1c774f281"
      },
      "outputs": [
        {
          "data": {
            "text/plain": [
              "[[64, 128, 192, 256], [64, 128, 192, 256], [64, 128, 192, 256]]"
            ]
          },
          "execution_count": 19,
          "metadata": {},
          "output_type": "execute_result"
        }
      ],
      "source": [
        "layer_possibilities = [node_options] * num_layers\n",
        "layer_possibilities"
      ]
    },
    {
      "cell_type": "code",
      "execution_count": null,
      "metadata": {
        "colab": {
          "base_uri": "https://localhost:8080/"
        },
        "id": "BsnGQgYuJG3t",
        "outputId": "ff7dcba8-6430-420f-e393-bbec7b1d25b8"
      },
      "outputs": [
        {
          "data": {
            "text/plain": [
              "[(64, 64, 64),\n",
              " (64, 64, 128),\n",
              " (64, 64, 192),\n",
              " (64, 64, 256),\n",
              " (64, 128, 64),\n",
              " (64, 128, 128),\n",
              " (64, 128, 192),\n",
              " (64, 128, 256),\n",
              " (64, 192, 64),\n",
              " (64, 192, 128),\n",
              " (64, 192, 192),\n",
              " (64, 192, 256),\n",
              " (64, 256, 64),\n",
              " (64, 256, 128),\n",
              " (64, 256, 192),\n",
              " (64, 256, 256),\n",
              " (128, 64, 64),\n",
              " (128, 64, 128),\n",
              " (128, 64, 192),\n",
              " (128, 64, 256),\n",
              " (128, 128, 64),\n",
              " (128, 128, 128),\n",
              " (128, 128, 192),\n",
              " (128, 128, 256),\n",
              " (128, 192, 64),\n",
              " (128, 192, 128),\n",
              " (128, 192, 192),\n",
              " (128, 192, 256),\n",
              " (128, 256, 64),\n",
              " (128, 256, 128),\n",
              " (128, 256, 192),\n",
              " (128, 256, 256),\n",
              " (192, 64, 64),\n",
              " (192, 64, 128),\n",
              " (192, 64, 192),\n",
              " (192, 64, 256),\n",
              " (192, 128, 64),\n",
              " (192, 128, 128),\n",
              " (192, 128, 192),\n",
              " (192, 128, 256),\n",
              " (192, 192, 64),\n",
              " (192, 192, 128),\n",
              " (192, 192, 192),\n",
              " (192, 192, 256),\n",
              " (192, 256, 64),\n",
              " (192, 256, 128),\n",
              " (192, 256, 192),\n",
              " (192, 256, 256),\n",
              " (256, 64, 64),\n",
              " (256, 64, 128),\n",
              " (256, 64, 192),\n",
              " (256, 64, 256),\n",
              " (256, 128, 64),\n",
              " (256, 128, 128),\n",
              " (256, 128, 192),\n",
              " (256, 128, 256),\n",
              " (256, 192, 64),\n",
              " (256, 192, 128),\n",
              " (256, 192, 192),\n",
              " (256, 192, 256),\n",
              " (256, 256, 64),\n",
              " (256, 256, 128),\n",
              " (256, 256, 192),\n",
              " (256, 256, 256)]"
            ]
          },
          "execution_count": 20,
          "metadata": {},
          "output_type": "execute_result"
        }
      ],
      "source": [
        "import itertools\n",
        "layer_node_permutations = list(itertools.product(*layer_possibilities))\n",
        "layer_node_permutations"
      ]
    },
    {
      "cell_type": "code",
      "execution_count": null,
      "metadata": {
        "id": "KLa0dxbbLfK_"
      },
      "outputs": [],
      "source": [
        "models = []\n",
        "from keras.layers.normalization.batch_normalization import BatchNormalization\n",
        "for permutation in layer_node_permutations:\n",
        "    model = Sequential()\n",
        "    model.add(Conv2D(64, 3, data_format=\"channels_last\", kernel_initializer=\"he_normal\", input_shape=(48,48,1)))\n",
        "    model.add(BatchNormalization())\n",
        "    model.add(Dropout(0.6))\n",
        "    model.add(Activation(\"relu\"))\n",
        "    model_name = ''\n",
        "    for nodes_at_layer in permutation:\n",
        "        model.add(tf.keras.layers.Dense(nodes_at_layer, activation='relu'))\n",
        "        model.add(BatchNormalization())\n",
        "        model.add(MaxPool2D(pool_size=(2,2), strides=2))\n",
        "        model.add(Dropout(0.6))\n",
        "        model_name += f'dense{nodes_at_layer}_'\n",
        "    model.add(Flatten())\n",
        "    model.add(Dense(7))\n",
        "    model.add(Activation(\"softmax\")) \n",
        "    \n",
        "    models.append(model)\n",
        "for model in models:\n",
        "  model.compile(loss=\"categorical_crossentropy\", optimizer=\"adam\", metrics=['accuracy'])    "
      ]
    },
    {
      "cell_type": "code",
      "execution_count": null,
      "metadata": {
        "id": "q-807EbBaRuE"
      },
      "outputs": [],
      "source": [
        "x_train = train_images.reshape(-1, 48, 48, 1)\n",
        "x_test = test_images.reshape(-1,48,48,1)"
      ]
    },
    {
      "cell_type": "code",
      "execution_count": null,
      "metadata": {
        "id": "zfZMMVIvzM1t"
      },
      "outputs": [],
      "source": [
        "accuracy_table = [0 for x in range(len(layer_node_permutations)+1)]"
      ]
    },
    {
      "cell_type": "code",
      "execution_count": null,
      "metadata": {
        "colab": {
          "background_save": true,
          "base_uri": "https://localhost:8080/"
        },
        "id": "xrcNvLq8aVdY",
        "outputId": "0ddbbce8-52a6-4ed1-d33f-ee827b16eea1"
      },
      "outputs": [
        {
          "name": "stdout",
          "output_type": "stream",
          "text": [
            "0\n",
            "Epoch 1/30\n",
            "144/144 - 281s - loss: 3.3084 - accuracy: 0.1997 - val_loss: 2.2609 - val_accuracy: 0.0159 - 281s/epoch - 2s/step\n",
            "Epoch 2/30\n",
            "144/144 - 275s - loss: 2.1657 - accuracy: 0.2370 - val_loss: 2.3083 - val_accuracy: 0.0156 - 275s/epoch - 2s/step\n",
            "Epoch 3/30\n",
            "144/144 - 275s - loss: 1.9086 - accuracy: 0.2536 - val_loss: 2.0510 - val_accuracy: 0.0847 - 275s/epoch - 2s/step\n",
            "Epoch 4/30\n",
            "144/144 - 280s - loss: 1.8220 - accuracy: 0.2759 - val_loss: 1.9545 - val_accuracy: 0.1828 - 280s/epoch - 2s/step\n",
            "Epoch 5/30\n",
            "144/144 - 279s - loss: 1.7965 - accuracy: 0.2842 - val_loss: 1.9823 - val_accuracy: 0.1630 - 279s/epoch - 2s/step\n",
            "Epoch 6/30\n",
            "144/144 - 281s - loss: 1.7821 - accuracy: 0.2948 - val_loss: 1.8694 - val_accuracy: 0.2561 - 281s/epoch - 2s/step\n",
            "Epoch 7/30\n",
            "144/144 - 285s - loss: 1.7679 - accuracy: 0.2990 - val_loss: 1.8897 - val_accuracy: 0.2547 - 285s/epoch - 2s/step\n",
            "Epoch 8/30\n",
            "144/144 - 279s - loss: 1.7493 - accuracy: 0.3073 - val_loss: 1.7941 - val_accuracy: 0.2650 - 279s/epoch - 2s/step\n",
            "Epoch 9/30\n",
            "144/144 - 284s - loss: 1.7377 - accuracy: 0.3162 - val_loss: 1.8487 - val_accuracy: 0.2686 - 284s/epoch - 2s/step\n",
            "Epoch 10/30\n",
            "144/144 - 283s - loss: 1.7273 - accuracy: 0.3174 - val_loss: 1.7701 - val_accuracy: 0.2875 - 283s/epoch - 2s/step\n",
            "Epoch 11/30\n",
            "144/144 - 283s - loss: 1.7179 - accuracy: 0.3232 - val_loss: 1.7444 - val_accuracy: 0.2970 - 283s/epoch - 2s/step\n",
            "Epoch 12/30\n",
            "144/144 - 282s - loss: 1.7074 - accuracy: 0.3241 - val_loss: 1.7559 - val_accuracy: 0.3068 - 282s/epoch - 2s/step\n",
            "Epoch 13/30\n"
          ]
        }
      ],
      "source": [
        "x=-1\n",
        "for model in models:\n",
        "  x+=1\n",
        "  print(x)\n",
        "  if accuracy_table[x] ==0:\n",
        "    model.fit( x_train, y_train,  \n",
        "                        epochs=30,\n",
        "                        shuffle=True,\n",
        "                        batch_size=200,\n",
        "                        validation_data=(x_test, y_test),\n",
        "                                              verbose=2)\n",
        "    acc = model.history.history['val_accuracy']\n",
        "    print(acc)\n",
        "    accuracy_table[x] = acc\n",
        "    data = np.array(accuracy_table)\n",
        "    np.save(\"accuracy_table.npy\", data)\n",
        "    \n"
      ]
    },
    {
      "cell_type": "code",
      "execution_count": null,
      "metadata": {
        "id": "rQux2fZ0tRV5"
      },
      "outputs": [],
      "source": [
        ""
      ]
    }
  ],
  "metadata": {
    "accelerator": "TPU",
    "colab": {
      "collapsed_sections": [],
      "name": "emotion-detection-CNNs.ipynb",
      "provenance": [],
      "mount_file_id": "1aOqEWNaXdhiqh4vCCWUHFKh9yxRvdq1g",
      "authorship_tag": "ABX9TyP6iTTe+wpxDMbpiNli40bL",
      "include_colab_link": true
    },
    "kernelspec": {
      "display_name": "Python 3",
      "name": "python3"
    },
    "language_info": {
      "name": "python"
    }
  },
  "nbformat": 4,
  "nbformat_minor": 0
}